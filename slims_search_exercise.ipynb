{
 "cells": [
  {
   "cell_type": "markdown",
   "metadata": {},
   "source": [
    "# Pattern search\n",
    "\n",
    "- Build a motif representing the the binding region of the **Tumor necrosis factor receptor superfamily member 11A (TNFRSF11A)** (UniProt Q9Y6Q6).\n",
    "\n",
    "- Search functionally similar human proteins \n",
    "\n",
    "- Identify binding partners"
   ]
  },
  {
   "cell_type": "code",
   "execution_count": 1,
   "metadata": {},
   "outputs": [],
   "source": [
    "from Bio import SeqIO\n",
    "import re\n",
    "import numpy as np\n",
    "import copy"
   ]
  },
  {
   "cell_type": "markdown",
   "metadata": {},
   "source": [
    "### SLiM pattern definition \n",
    "\n",
    "Build a generic motif representing the TRAF6 binding region from a MSA\n",
    "\n",
    "The MSA has been previously generated using BLAST \n",
    "and aligning the (complete) UniProt sequence against SwissProt (SP) and\n",
    "Non-Redundant (NR) databases.\n",
    "\n",
    "The position of the interacting region is known in advance, \n",
    "identified directly from the PDB (1LB5). \n",
    "\n",
    "- PDB positions 602-608 (...MPTEDEY...)\n",
    "- UniProt positions 343-349 \n"
   ]
  },
  {
   "cell_type": "code",
   "execution_count": 21,
   "metadata": {
    "pycharm": {
     "name": "#%%\n"
    }
   },
   "outputs": [],
   "source": [
    "# For each position of the fragment get the aminoacid distribution\n",
    "seq_records = list(SeqIO.parse(\"data/Q9Y6Q6_blast_msa.txt\", \"fasta\"))\n",
    "seqs = []\n",
    "for record in seq_records:\n",
    "    fragment = record.seq[342:349]  # Extract the fragment corresponding to the interaction region in the query\n",
    "    if set(fragment) != set(\"-\"):  # Skip fully gapped slices\n",
    "        seqs.append(list(fragment))"
   ]
  },
  {
   "cell_type": "code",
   "execution_count": 22,
   "metadata": {
    "pycharm": {
     "name": "#%%\n"
    }
   },
   "outputs": [
    {
     "name": "stdout",
     "output_type": "stream",
     "text": [
      "0 [('V', 178), ('I', 128), ('M', 66), ('G', 17), ('S', 7), ('-', 4), ('Q', 4), ('L', 2), ('D', 1), ('T', 1)]\n",
      "1 [('P', 395), ('D', 4), ('V', 3), ('-', 2), ('G', 2), ('S', 2)]\n",
      "2 [('T', 253), ('M', 136), ('A', 4), ('I', 4), ('-', 3), ('R', 3), ('S', 3), ('G', 1), ('Q', 1)]\n",
      "3 [('E', 399), ('A', 3), ('S', 3), ('-', 1), ('D', 1), ('G', 1)]\n",
      "4 [('D', 391), ('N', 9), ('E', 4), ('R', 3), ('S', 1)]\n",
      "5 [('E', 397), ('T', 3), ('G', 2), ('V', 2), ('A', 1), ('P', 1), ('Q', 1), ('S', 1)]\n",
      "6 [('Y', 395), ('S', 6), ('R', 3), ('E', 2), ('P', 2)]\n"
     ]
    }
   ],
   "source": [
    "# Calculate the pattern by looking at the amino acid distribution for each position\n",
    "seqs = np.array(seqs).T\n",
    "for i, row in enumerate(seqs):\n",
    "    unique, counts = np.unique(row, return_counts=True)\n",
    "    print(i, sorted(tuple(zip(unique, counts)), key=lambda k: k[1], reverse=True))\n"
   ]
  },
  {
   "cell_type": "code",
   "execution_count": 10,
   "metadata": {
    "pycharm": {
     "name": "#%%\n"
    }
   },
   "outputs": [
    {
     "name": "stdout",
     "output_type": "stream",
     "text": [
      "Number matches 6507\n",
      "[('sp|Q8NB16|MLKL_HUMAN', ['LSPQELEDV', 'DCPSELREI']), ('sp|O94851|MICA2_HUMAN', ['LEPPEDQEN']), ('sp|Q8NCK7|MOT11_HUMAN', ['TPPPETGEL']), ('sp|Q96H12|MSD3_HUMAN', ['SPPEEEPEY']), ('sp|P18669|PGAM1_HUMAN', ['PPPMEPDHP']), ('sp|Q5H9R7|PP6R3_HUMAN', ['ASPFENTEN', 'DLPDEVRER', 'DVPMETTHG']), ('sp|Q8WVI7|PPR1C_HUMAN', ['HNPPEIDDK']), ('sp|Q16557|PSG3_HUMAN', ['LYPREDMEA', 'LNPRENKDV', 'NPPAEYSWT']), ('sp|Q6VN20|RBP10_HUMAN', ['QTPGEIVDA']), ('sp|Q9H2M9|RBGPR_HUMAN', ['NEPQEPEEE', 'ENPDEPKEG', 'KDPEEARFF'])]\n"
     ]
    }
   ],
   "source": [
    "# Find the pattern against the Human proteome\n",
    "matches = []\n",
    "seq_records = list(SeqIO.parse(\"data/human_up000005640.fasta\", \"fasta\"))\n",
    "for record in seq_records:\n",
    "#     res = re.findall(\"MPTEDEY\", str(record.seq))  # PDB fragment\n",
    "#     res = re.findall(\"[VIM]P[TM]EDEY\", str(record.seq))  # Ambiguous chars\n",
    "#     res = re.findall(\".P.EDEY\", str(record.seq))  # Gaps\n",
    "    res = re.findall(\"..P.E..[FYWHDE].\", str(record.seq))  # The ELM pattern\n",
    "    if res:\n",
    "        matches.append((record.name, res))\n",
    "        \n",
    "print(\"Number matches\", len(matches))\n",
    "print(matches[:10])\n"
   ]
  },
  {
   "cell_type": "markdown",
   "metadata": {},
   "source": [
    "# Exercise\n",
    "Filter ELM matches retaining only those falling inside instrisically disordered regions, as they are defined in MobiDB\n",
    "\n",
    "MobiDB output is provided in *data/mobidb_lite_human.tsv*\n",
    "The (disordered) regions column (column no. 3) has the format\n",
    "```\n",
    "<start>..<end>,<start>..<end>, ...\n",
    "```\n",
    "```\n",
    "Q13362  prediction-disorder-mobidb_lite 476..509        0.065   34      524\n",
    "Q9Y3L3  prediction-disorder-mobidb_lite 1..23,160..182,496..701 0.359   252     701\n",
    "P78314  prediction-disorder-mobidb_lite 160..316,333..451       0.492   276     561\n",
    "Q7L8J4  prediction-disorder-mobidb_lite 1..58,273..332,362..393 0.382   150     393\n",
    "```"
   ]
  },
  {
   "cell_type": "code",
   "execution_count": 29,
   "metadata": {
    "pycharm": {
     "name": "#%%\n"
    }
   },
   "outputs": [],
   "source": [
    "# Parse MobiDB-lite output\n",
    "disorder = {}\n",
    "with open(\"data/mobidb_lite_human.tsv\") as f:\n",
    "    for line in f:\n",
    "        uniprot_id, _, regions = line.strip().split(\"\\t\")[:3]\n",
    "        for region in regions.split(\",\"):\n",
    "            start, end = region.split(\"..\")\n",
    "            disorder.setdefault(uniprot_id, []).append((int(start), int(end)))"
   ]
  },
  {
   "cell_type": "code",
   "execution_count": 38,
   "metadata": {},
   "outputs": [
    {
     "name": "stdout",
     "output_type": "stream",
     "text": [
      "Number matches 2490\n",
      "[('sp|Q8NCK7|MOT11_HUMAN', <re.Match object; span=(440, 449), match='TPPPETGEL'>), ('sp|Q6VN20|RBP10_HUMAN', <re.Match object; span=(206, 215), match='QTPGEIVDA'>), ('sp|Q1RMZ1|SAMTR_HUMAN', <re.Match object; span=(231, 240), match='SLPGELFHV'>), ('sp|P35498|SCN1A_HUMAN', <re.Match object; span=(73, 82), match='SEPLEDLDP'>), ('sp|A3KN83|SBNO1_HUMAN', <re.Match object; span=(225, 234), match='DEPEEEDEE'>), ('sp|Q9Y6H5|SNCAP_HUMAN', <re.Match object; span=(306, 315), match='QGPEERSEY'>), ('sp|Q9UNP4|SIAT9_HUMAN', <re.Match object; span=(27, 36), match='AMPSEYTYV'>), ('sp|Q9BUA3|SPNDC_HUMAN', <re.Match object; span=(256, 265), match='AAPAEVRHF'>), ('sp|P28370|SMCA1_HUMAN', <re.Match object; span=(534, 543), match='QTPHEERED'>), ('sp|P32745|SSR3_HUMAN', <re.Match object; span=(283, 292), match='PLPEEPAFF'>)]\n"
     ]
    }
   ],
   "source": [
    "# Find the pattern against the Human proteome\n",
    "matches = []\n",
    "seq_records = list(SeqIO.parse(\"data/human_up000005640.fasta\", \"fasta\"))\n",
    "for record in seq_records:\n",
    "    uniprot_id = record.name.split(\"|\")[1]\n",
    "    if disorder.get(uniprot_id):\n",
    "        # Use search because it return a match object including start, end positions\n",
    "        res = re.search(\"..P.E..[FYWHDE].\", str(record.seq))  # The ELM pattern\n",
    "        if res:\n",
    "            for start, end in disorder[uniprot_id]:\n",
    "                if res.start() >= start and end <= res.end():\n",
    "                    matches.append((record.name, res))\n",
    "                    break\n",
    "        \n",
    "print(\"Number matches\", len(matches))\n",
    "print(matches[:10])"
   ]
  },
  {
   "cell_type": "markdown",
   "metadata": {},
   "source": [
    "### Binding surface pattern\n",
    "From the PDB is possible to identify some residues concetrated in a specific\n",
    "strand of the beta sheet which are interacting with the SLiM \n",
    "- PDB positions 466-473\n",
    "- UniProt positions?\n",
    "\n",
    "Looking at the PDB website chain B is the short peptide while chain A is the structured domain (TNF receptor-associated factor 6 (TRAF 6)) which map to Q9Y4K3.\n",
    "\n",
    "The positions of the binding surface in the PDB coincide with UniProt 466-473.  "
   ]
  },
  {
   "cell_type": "code",
   "execution_count": 23,
   "metadata": {},
   "outputs": [],
   "source": [
    "# For each position of the fragment get the aminoacid distribution\n",
    "seq_records = list(SeqIO.parse(\"data/Q9Y4K3_blast_msa.txt\", \"fasta\"))\n",
    "seqs = []\n",
    "for record in seq_records:\n",
    "    fragment = record.seq[465:473]  # Extract the fragment corresponding to the interaction region in the query\n",
    "    if set(fragment) != set(\"-\"):  # Skip fully gapped slices\n",
    "        seqs.append(list(fragment))"
   ]
  },
  {
   "cell_type": "code",
   "execution_count": 24,
   "metadata": {},
   "outputs": [
    {
     "name": "stdout",
     "output_type": "stream",
     "text": [
      "0 [('R', 499)]\n",
      "1 [('N', 499)]\n",
      "2 [('P', 499)]\n",
      "3 [('K', 499)]\n",
      "4 [('G', 499)]\n",
      "5 [('F', 495), ('-', 3), ('S', 1)]\n",
      "6 [('G', 495), ('-', 3), ('Y', 1)]\n",
      "7 [('Y', 495), ('-', 3), ('R', 1)]\n"
     ]
    }
   ],
   "source": [
    "# Calculate the pattern by looking at the amino acid distribution for each position\n",
    "seqs = np.array(seqs).T\n",
    "for i, row in enumerate(seqs):\n",
    "    unique, counts = np.unique(row, return_counts=True)\n",
    "    print(i, sorted(tuple(zip(unique, counts)), key=lambda k: k[1], reverse=True))\n"
   ]
  },
  {
   "cell_type": "code",
   "execution_count": 28,
   "metadata": {
    "pycharm": {
     "name": "#%%\n"
    }
   },
   "outputs": [
    {
     "name": "stdout",
     "output_type": "stream",
     "text": [
      "Number matches 31\n",
      "[('sp|Q5VT52|RPRD2_HUMAN', ['FIPKSFNY']), ('sp|Q9HB90|RRAGC_HUMAN', ['SFPKDFGY']), ('sp|Q9HCX4|TRPC7_HUMAN', ['PSPKSFYY']), ('sp|Q96DY7|MTBP_HUMAN', ['ILPKVFHY']), ('sp|Q86U42|PABP2_HUMAN', ['GHPKGFAY']), ('sp|A6NM11|L37A2_HUMAN', ['PEPKSFNY']), ('sp|Q6R327|RICTR_HUMAN', ['SIPKGFSY']), ('sp|Q86XF7|ZN575_HUMAN', ['DCPKAFSY', 'DCPKSFCY']), ('sp|P28068|DMB_HUMAN', ['GTPKDFTY']), ('sp|Q6ZSU1|C2G1P_HUMAN', ['KDPKYFRY'])]\n"
     ]
    }
   ],
   "source": [
    "# Find the pattern against the Human proteome\n",
    "matches = []\n",
    "seq_records = list(SeqIO.parse(\"data/human_up000005640.fasta\", \"fasta\"))\n",
    "for record in seq_records:\n",
    "#     res = re.findall(\"RNPKGFGY\", str(record.seq))  # PDB region\n",
    "    res = re.findall(\"PK.F.Y\", str(record.seq))  # PDB contacts\n",
    "    if res:\n",
    "        matches.append((record.name, res))\n",
    "        \n",
    "print(\"Number matches\", len(matches))\n",
    "print(matches[:10])\n"
   ]
  }
 ],
 "metadata": {
  "kernelspec": {
   "display_name": "Python 3 (ipykernel)",
   "language": "python",
   "name": "python3"
  },
  "language_info": {
   "codemirror_mode": {
    "name": "ipython",
    "version": 3
   },
   "file_extension": ".py",
   "mimetype": "text/x-python",
   "name": "python",
   "nbconvert_exporter": "python",
   "pygments_lexer": "ipython3",
   "version": "3.9.7"
  }
 },
 "nbformat": 4,
 "nbformat_minor": 1
}
