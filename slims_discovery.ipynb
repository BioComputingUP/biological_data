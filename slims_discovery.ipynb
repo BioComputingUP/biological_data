{
 "cells": [
  {
   "attachments": {},
   "cell_type": "markdown",
   "metadata": {},
   "source": [
    "# Pattern discovery\n",
    "\n",
    "Suppose we have **100 sequences** of **length L** and a simple \n",
    "**pattern s** of **length k**, for k ≤ L. \n",
    "Assume it has N<sub>s</sub> occurrences in the sequences. \n",
    "\n",
    "Let **S** be the set of |Σ|k **possible patterns**, i.e. strings \n",
    "of length k.\n",
    "The number of possible occurencies of s in each sequence \n",
    "is L − k + 1, therefore the total potential \n",
    "occurrences will be **100(L − k + 1)**. \n",
    "\n",
    "We want to be able to decide whether the **number of \n",
    "occurrences N<sub>s</sub>** observed for pattern s is something \n",
    "that we would expect to happen if the sequences were \n",
    "drawn under random (background) conditions.\n",
    "\n",
    "##### P-value\n",
    "P-value of 0.05. If we do 100 experiments, in each drawing \n",
    "100 random sequences, we would expect to see s occur in at \n",
    "least N<sub>s</sub> sequences just in 5 experiments.\n",
    "\n",
    "##### Z-score\n",
    "It is the number of standard deviations by which the observed \n",
    "value N<sub>s</sub> differs from the expected value. Since it is \n",
    "normalized it is suitable for comparing different motifs.\n",
    "\n",
    "![zscore](images/zscore.png)\n",
    "\n",
    "E(N<sub>s</sub>) and σ(N<sub>s</sub>)<sup>2</sup> be mean \n",
    "and variance of the number of occurrences of the pattern s\n",
    "in the sequences generated according to the background \n",
    "distribution."
   ]
  },
  {
   "cell_type": "code",
   "execution_count": 1,
   "metadata": {},
   "outputs": [],
   "source": [
    "from Bio import SeqIO\n",
    "import re\n",
    "from Bio.Blast import NCBIXML\n",
    "import numpy as np\n",
    "import copy"
   ]
  },
  {
   "cell_type": "markdown",
   "metadata": {},
   "source": [
    "### Background distribution\n",
    "Count all possible patterns (background distribution) in human of a given lenght, \n",
    "no gaps, no ambiguous groups"
   ]
  },
  {
   "cell_type": "code",
   "execution_count": 2,
   "metadata": {},
   "outputs": [
    {
     "name": "stdout",
     "output_type": "stream",
     "text": [
      "Number of possible patterns of length 6: 11,257,512\n"
     ]
    }
   ],
   "source": [
    "# Load all human sequences into a list\n",
    "seq_records = list(SeqIO.parse(\"data/human_up000005640.fasta\", \"fasta\"))\n",
    "\n",
    "pattern_length = 6\n",
    "\n",
    "S = 0\n",
    "for record in seq_records:\n",
    "    S += len(record.seq) - pattern_length + 1\n",
    "    \n",
    "print(\"Number of possible patterns of length {}: {:,}\".format(pattern_length, S))\n"
   ]
  },
  {
   "cell_type": "markdown",
   "metadata": {},
   "source": [
    "### Simple pattern\n",
    "\n",
    "Enumerate all possible patterns in human (background distribution).\n",
    "The pattern is simple and has fixed lenght, no gaps, no ambiguous groups"
   ]
  },
  {
   "cell_type": "code",
   "execution_count": 14,
   "metadata": {},
   "outputs": [
    {
     "name": "stdout",
     "output_type": "stream",
     "text": [
      "Number of observed patterns of length 6: 11,257,512\n"
     ]
    }
   ],
   "source": [
    "patterns = {}\n",
    "seq_records = list(SeqIO.parse(\"data/human_up000005640.fasta\", \"fasta\"))\n",
    "for record in seq_records:\n",
    "    seq = str(record.seq)\n",
    "    for i in range(len(seq) - pattern_length + 1):\n",
    "        pattern = seq[i:i+pattern_length]\n",
    "        patterns.setdefault(pattern, 0)\n",
    "        patterns[pattern] += 1\n",
    "        \n",
    "patterns = sorted([(pattern, count) for pattern, count in patterns.items()], \n",
    "                  key=lambda x:x[1], reverse=True)\n",
    "\n",
    "print(\"Number of observed patterns of length {}: {:,}\".format(pattern_length, S))"
   ]
  },
  {
   "cell_type": "code",
   "execution_count": 18,
   "metadata": {},
   "outputs": [
    {
     "name": "stdout",
     "output_type": "stream",
     "text": [
      "Mean occurences 1.42\n",
      "STD 2.66\n",
      "HTGEKP 2,613 9.83e+02\n",
      "TGEKPY 2,188 8.23e+02\n",
      "EEEEEE 1,656 6.23e+02\n",
      "AAAAAA 1,559 5.86e+02\n",
      "IHTGEK 1,477 5.55e+02\n",
      "PPPPPP 1,415 5.32e+02\n",
      "ECGKAF 1,412 5.31e+02\n",
      "QQQQQQ 1,265 4.76e+02\n",
      "SSSSSS 1,167 4.39e+02\n",
      "EKPYKC 1,127 4.24e+02\n"
     ]
    }
   ],
   "source": [
    "expected = np.mean([count for pattern, count in patterns])\n",
    "std = np.std([count for pattern, count in patterns])\n",
    "\n",
    "print(\"Mean occurences {:.3}\\nSTD {:.3}\".format(expected, std))\n",
    "\n",
    "# Calculate Z-score\n",
    "for pattern, count in patterns[:10]:\n",
    "    print(\"{} {:,} {:.3}\".format(pattern, count, (count - expected) / std))\n"
   ]
  },
  {
   "cell_type": "markdown",
   "metadata": {},
   "source": [
    "### Gapped pattern\n",
    "\n",
    "Calculate all possible patterns in human of a given lenght, \n",
    "with a maximum number of gaps (ex. 2), no ambiguous chars\n",
    "```\n",
    "ABCDEFG\n",
    "ABC-EFG\n",
    "AB--EFG\n",
    "-BC-EFG\n",
    "```\n",
    "> WARNING 3 Gb of RAM (~10 minutes)\n"
   ]
  },
  {
   "cell_type": "code",
   "execution_count": 16,
   "metadata": {},
   "outputs": [],
   "source": [
    "\n",
    "# Recursive function. Create a new tree level for increasing no. of gaps  \n",
    "def add_gaps(pattern, patterns, iteration, max_iterations):\n",
    "    if iteration < max_iterations:\n",
    "        for i in range(len(pattern)):\n",
    "            new_pattern = pattern[:i] + \"-\" + pattern[i+1:]\n",
    "            if new_pattern not in patterns:\n",
    "                patterns.add(new_pattern)\n",
    "                add_gaps(new_pattern, patterns, iteration + 1, max_iterations)\n",
    "    return patterns\n",
    "\n",
    "pattern_length = 6\n",
    "max_gaps = 2\n",
    "\n",
    "gapped_patterns = {}\n",
    "for record in seq_records:\n",
    "    seq = str(record.seq)\n",
    "    for i in range(len(seq) - pattern_length):\n",
    "        pattern = seq[i:i+pattern_length]\n",
    "        seq_patterns = add_gaps(pattern, set(), 0, max_gaps)\n",
    "        for p in seq_patterns:\n",
    "#             print(p)\n",
    "            gapped_patterns.setdefault(p, 0)\n",
    "            gapped_patterns[p] += 1\n",
    "\n",
    "gapped_patterns = sorted([(pattern, c) for pattern, c in gapped_patterns.items()], \n",
    "                         key=lambda x:x[1], reverse=True)\n"
   ]
  },
  {
   "cell_type": "code",
   "execution_count": 17,
   "metadata": {},
   "outputs": [
    {
     "name": "stdout",
     "output_type": "stream",
     "text": [
      "Mean occurences 14.3\n",
      "STD 41.5\n",
      "C--CGK 4,487 1.08e+02\n",
      "-CGK-F 4,272 1.03e+02\n",
      "CGK-F- 4,270 1.03e+02\n",
      "H-GE-P 3,754 90.2\n",
      "HTG--P 3,647 87.6\n",
      "-HTGE- 3,542 85.1\n",
      "--HTGE 3,541 85.0\n",
      "HTGE-- 3,531 84.8\n",
      "H-G-KP 3,529 84.7\n",
      "-H-GEK 3,463 83.1\n"
     ]
    }
   ],
   "source": [
    "expected = np.mean([count for pattern, count in gapped_patterns])\n",
    "std = np.std([count for pattern, count in gapped_patterns])\n",
    "\n",
    "print(\"Mean occurences {:.3}\\nSTD {:.3}\".format(expected, std))\n",
    "\n",
    "# Calculate Z-score\n",
    "c = 0\n",
    "for pattern, count in gapped_patterns:\n",
    "    # Skip patterns made of gaps and just one AA\n",
    "    if len(set(pattern)) > 2:\n",
    "        c += 1\n",
    "        print(\"{} {:,} {:.3}\".format(pattern, count, (count - expected) / std))\n",
    "        if c >= 10:\n",
    "           break\n",
    "\n"
   ]
  },
  {
   "cell_type": "markdown",
   "metadata": {},
   "source": [
    "### Varible length gaps\n",
    "Calculate all possible patterns in human with a fixed number of gaps \n",
    "of variable length (ex. max length = 4), no ambiguous chars\n",
    "\n",
    "```\n",
    "A--B----C\n",
    "A-BC\n",
    "```\n",
    "\n",
    "> WARNING it consumes xx Gb of RAM (~xx minutes)\n"
   ]
  },
  {
   "cell_type": "code",
   "execution_count": 3,
   "metadata": {},
   "outputs": [
    {
     "name": "stdout",
     "output_type": "stream",
     "text": [
      "{(0, 1), (1, 2), (2, 1), (0, 0), (3, 1), (1, 1), (0, 3), (2, 0), (3, 0), (2, 3), (0, 2), (3, 3), (2, 2), (1, 0), (3, 2), (1, 3)}\n"
     ]
    }
   ],
   "source": [
    "\n",
    "number_gaps = 2\n",
    "max_gap_len = 3\n",
    "\n",
    "# Depth-first tree traversal\n",
    "def gap_tree(gap_level, gaps_dict, gaps, number_gaps, max_gap_len):\n",
    "    if gap_level < number_gaps:\n",
    "        for i in range(max_gap_len + 1):\n",
    "            gaps_dict[gap_level] = i\n",
    "            if number_gaps - 1 in gaps_dict:  # Skip the incomplete branch\n",
    "#                 print(gaps_dict)\n",
    "                gaps.add(tuple(v for k, v in gaps_dict.items()))\n",
    "            gap_tree(gap_level + 1, gaps_dict, gaps, number_gaps, max_gap_len)\n",
    "    return gaps\n",
    "\n",
    "gaps = gap_tree(0, {}, set(), number_gaps, max_gap_len)\n",
    "print(gaps)"
   ]
  },
  {
   "cell_type": "code",
   "execution_count": 4,
   "metadata": {},
   "outputs": [],
   "source": [
    "variable_patterns = {}\n",
    "for record in seq_records:\n",
    "    seq = str(record.seq)\n",
    "    for i in range(len(seq)):\n",
    "#         print(seq[i:i+number_gaps*max_gap_len+number_gaps])\n",
    "        for gap_list in gaps:\n",
    "            pattern = seq[i]\n",
    "            for j, gap in enumerate(gap_list):\n",
    "                if i + j + 1 + gap < len(seq):\n",
    "                    pattern = pattern + \"-\" * gap + seq[i+j+1+gap]\n",
    "#             print(pattern)\n",
    "            variable_patterns.setdefault(pattern, 0)\n",
    "            variable_patterns[pattern] += 1\n",
    "#         break\n",
    "#     break\n",
    "\n",
    "variable_patterns = sorted([(pattern, c) for pattern, c in variable_patterns.items()], \n",
    "                         key=lambda x:x[1], reverse=True)"
   ]
  },
  {
   "cell_type": "code",
   "execution_count": 13,
   "metadata": {},
   "outputs": [
    {
     "name": "stdout",
     "output_type": "stream",
     "text": [
      "Mean occurences 1.68e+03, STD 3.72e+03\n",
      "S-LL                 94,948     25.1\n",
      "L-SS                 92,433     24.4\n",
      "E-LL                 87,693     23.1\n",
      "S---L--L             87,645     23.1\n",
      "L--S-S               87,286     23.0\n",
      "L---S--S             86,530     22.8\n",
      "S--L-L               85,928     22.6\n",
      "L-EE                 83,929     22.1\n",
      "L--A-A               82,966     21.9\n",
      "L-AA                 82,521     21.7\n"
     ]
    }
   ],
   "source": [
    "expected = np.mean([count for pattern, count in variable_patterns])\n",
    "std = np.std([count for pattern, count in variable_patterns])\n",
    "\n",
    "print(\"Mean occurences {:.3}\\nSTD {:.3}\".format(expected, std))\n",
    "\n",
    "# Calculate Z-score\n",
    "c = 0\n",
    "for pattern, count in variable_patterns:\n",
    "    # Skip patterns made of gaps and just one AA\n",
    "    if len(set(pattern)) > 2:\n",
    "        c += 1\n",
    "        print(\"{:<20} {:<10,} {:.3}\".format(pattern, count, (count - expected) / std))\n",
    "        if c >= 10:\n",
    "           break"
   ]
  }
 ],
 "metadata": {
  "kernelspec": {
   "display_name": "Python 3 (ipykernel)",
   "language": "python",
   "name": "python3"
  },
  "language_info": {
   "codemirror_mode": {
    "name": "ipython",
    "version": 3
   },
   "file_extension": ".py",
   "mimetype": "text/x-python",
   "name": "python",
   "nbconvert_exporter": "python",
   "pygments_lexer": "ipython3",
   "version": "3.9.7"
  }
 },
 "nbformat": 4,
 "nbformat_minor": 1
}
