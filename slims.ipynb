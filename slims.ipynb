{
 "cells": [
  {
   "cell_type": "code",
   "execution_count": null,
   "metadata": {
    "pycharm": {
     "is_executing": true,
     "name": "#%%\n"
    }
   },
   "outputs": [],
   "source": []
  },
  {
   "cell_type": "code",
   "execution_count": 38,
   "metadata": {},
   "outputs": [],
   "source": [
    "from Bio import SeqIO\n",
    "import re\n",
    "from Bio.Blast import NCBIXML\n",
    "import numpy as np\n",
    "import copy\n",
    "\n",
    "\n",
    "\n",
    "file_blast = \"old/Q9Y6Q6_blast_nr.xml\"\n",
    "file_fasta = \"data/Q9Y6Q6_blast_msa.fasta\"\n"
   ]
  },
  {
   "cell_type": "code",
   "execution_count": 3,
   "metadata": {
    "pycharm": {
     "name": "#%%\n"
    }
   },
   "outputs": [],
   "source": [
    "\"\"\"\n",
    "Build a MSA from the BLAST alignment of the Q9Y6Q6 \"TRAF6 binding domain\" against SwissProt (SP) and\n",
    "Non-Redundant (NR) databases. Use the NCBI webtool. Parse the output\n",
    "\"\"\"\n",
    "\n",
    "# with open(\"data/Q9Y6Q6_blast_sp.xml\") as f:\n",
    "with open(file_fasta, \"w\") as fout:\n",
    "    with open(file_blast) as f:\n",
    "        psiblast_rounds = NCBIXML.parse(f)\n",
    "        # Iterate over Psiblast rounds\n",
    "        for psiblast_round in psiblast_rounds:\n",
    "            for alignment in psiblast_round.alignments:\n",
    "                name = alignment.title.split()[0].split(\"|\")[1].split(\".\")[0]\n",
    "\n",
    "                for hsp in alignment.hsps:\n",
    "                    if hsp.expect <= 10**-5:\n",
    "\n",
    "                        # Initialize the aligned hit sequence by adding the starting gaps\n",
    "                        seq = ['-'] * (hsp.query_start - 1)\n",
    "                        # Add aligned amino acids. Skip positions with gaps in the query\n",
    "                        for i, aa in enumerate(hsp.query):\n",
    "                            if aa != '-':\n",
    "                                seq.append(hsp.sbjct[i])\n",
    "                        # Pad the sequence by adding end gaps\n",
    "                        seq += ['-'] * (psiblast_round.query_length - len(seq))\n",
    "\n",
    "                        # Append and convert to string\n",
    "                        fout.write(\">{}\\n{}\\n\".format(name, \"\".join(seq)))\n"
   ]
  },
  {
   "cell_type": "code",
   "execution_count": 8,
   "metadata": {
    "pycharm": {
     "name": "#%%\n"
    }
   },
   "outputs": [],
   "source": [
    "\"\"\"\n",
    "Extract the hit fragments which align with in the \"TRAF6 binding domain\" interacting region.\n",
    "The position of the interaction region is derived directly from the PDB (601:608) \n",
    "and mapped to UniProt (342:349) \"QMPTEDEY\"\n",
    "\"\"\"\n",
    "# For each position of the fragment get the aminoacid distribution\n",
    "seqs = []\n",
    "with open(file_fasta) as f:\n",
    "    for line in f:\n",
    "        if line[0] != \">\":\n",
    "            fragment = line[342:349]  # Extract the fragment corresponding to the interaction region in the query\n",
    "            if set(fragment) != set(\"-\"):\n",
    "                # print(fragment, name)\n",
    "                seqs.append(list(fragment))"
   ]
  },
  {
   "cell_type": "code",
   "execution_count": 9,
   "metadata": {
    "pycharm": {
     "name": "#%%\n"
    }
   },
   "outputs": [
    {
     "name": "stdout",
     "output_type": "stream",
     "text": [
      "[('V', 178), ('I', 128), ('M', 66), ('G', 17), ('S', 7), ('-', 4), ('Q', 4), ('L', 2), ('D', 1), ('T', 1)]\n",
      "[('P', 395), ('D', 4), ('V', 3), ('-', 2), ('G', 2), ('S', 2)]\n",
      "[('T', 253), ('M', 136), ('A', 4), ('I', 4), ('-', 3), ('R', 3), ('S', 3), ('G', 1), ('Q', 1)]\n",
      "[('E', 399), ('A', 3), ('S', 3), ('-', 1), ('D', 1), ('G', 1)]\n",
      "[('D', 391), ('N', 9), ('E', 4), ('R', 3), ('S', 1)]\n",
      "[('E', 397), ('T', 3), ('G', 2), ('V', 2), ('A', 1), ('P', 1), ('Q', 1), ('S', 1)]\n",
      "[('Y', 395), ('S', 6), ('R', 3), ('E', 2), ('P', 2)]\n"
     ]
    }
   ],
   "source": [
    "\"\"\"\n",
    "Calculate the pattern by looking at the amino acid distribution for each position\n",
    "\"\"\"\n",
    "seqs = np.array(seqs).T\n",
    "for row in seqs:\n",
    "    unique, counts = np.unique(row, return_counts=True)\n",
    "    print(sorted(tuple(zip(unique, counts)), key=lambda k: k[1], reverse=True))\n"
   ]
  },
  {
   "cell_type": "code",
   "execution_count": 15,
   "metadata": {
    "pycharm": {
     "name": "#%%\n"
    }
   },
   "outputs": [
    {
     "name": "stdout",
     "output_type": "stream",
     "text": [
      "Pattern matches against Human proteins 3\n",
      "Pattern matches against Human proteins [('sp|O00750|P3C2B_HUMAN', ['NPGEDEY']), ('sp|Q01954|BNC1_HUMAN', ['VPGEDEY']), ('sp|Q9Y6Q6|TNR11_HUMAN', ['MPTEDEY'])]\n"
     ]
    }
   ],
   "source": [
    "\"\"\"\n",
    "Find the new pattern against the Human proteome\n",
    "\"\"\"\n",
    "matches = []\n",
    "seq_records = list(SeqIO.parse(\"data/human_up000005640.fasta\", \"fasta\"))\n",
    "for record in seq_records:\n",
    "    # res = re.findall(\".P.EDEY\", str(record.seq))  # The new pattern, created using Blast\n",
    "    res = re.findall(\".P.EDEY\", str(record.seq))  # The new pattern, created using Blast\n",
    "    if res:\n",
    "        matches.append((record.name, res))\n",
    "        \n",
    "print(\"Pattern matches against Human proteins\", len(matches))\n",
    "print(\"Pattern matches against Human proteins\", matches)\n"
   ]
  },
  {
   "cell_type": "code",
   "execution_count": 39,
   "metadata": {},
   "outputs": [
    {
     "name": "stdout",
     "output_type": "stream",
     "text": [
      "Count 9923526\n",
      "Top pattern [('HTGEKPY', 2174), ('IHTGEKP', 1359), ('EEEEEEE', 1104), ('AAAAAAA', 1072), ('QQQQQQQ', 1051), ('GEKPYKC', 993), ('RIHTGEK', 972), ('TGEKPYK', 878), ('PPPPPPP', 871), ('SSSSSSS', 827)]\n"
     ]
    }
   ],
   "source": [
    "\"\"\"\n",
    "Calculate all possible patterns in human of a given lenght, no gaps, no ambiguous chars\n",
    "\"\"\"\n",
    "pattern_length = 7\n",
    "\n",
    "counts = {}\n",
    "seq_records = list(SeqIO.parse(\"data/human_up000005640.fasta\", \"fasta\"))\n",
    "for record in seq_records:\n",
    "    seq = str(record.seq)\n",
    "    for i in range(len(seq) - pattern_length):\n",
    "        pattern = seq[i:i+pattern_length]\n",
    "        counts.setdefault(pattern, 0)\n",
    "        counts[pattern] += 1\n",
    "   \n",
    "counts = sorted([(pattern, c) for pattern, c in counts.items()], key=lambda x:x[1], reverse=True)\n",
    "print(\"Count\", len(counts))\n",
    "print(\"Top pattern\", counts[:10])\n"
   ]
  },
  {
   "cell_type": "code",
   "execution_count": 58,
   "metadata": {},
   "outputs": [
    {
     "name": "stdout",
     "output_type": "stream",
     "text": [
      "Count 104835606\n",
      "Top pattern [('-HTGE-P', 3153), ('HTGE-P-', 3153), ('GEKP--C', 3034), ('-H-GEKP', 3032), ('H-GEKP-', 3032), ('GE-PY-C', 2989), ('H-GE-PY', 2985), ('-HTG-KP', 2914), ('HTG-KP-', 2914), ('HTG--PY', 2893)]\n"
     ]
    }
   ],
   "source": [
    "\"\"\"\n",
    "Add gaps\n",
    "\"\"\"\n",
    "pattern_length = 7\n",
    "max_gaps = 2\n",
    "\n",
    "\n",
    "def add_gaps(pattern, patterns, iteration, max_iterations):\n",
    "    if iteration < max_iterations:\n",
    "        for i in range(len(pattern)):\n",
    "            new_pattern = pattern[:i] + \"-\" + pattern[i+1:]\n",
    "            if new_pattern not in patterns:\n",
    "                patterns.add(new_pattern)\n",
    "                add_gaps(new_pattern, patterns, iteration + 1, max_iterations)\n",
    "    return patterns\n",
    "\n",
    "counts = {}\n",
    "seq_records = list(SeqIO.parse(\"data/human_up000005640.fasta\", \"fasta\"))\n",
    "for record in seq_records:\n",
    "    seq = str(record.seq)\n",
    "    for i in range(len(seq) - pattern_length):\n",
    "        pattern = seq[i:i+pattern_length]\n",
    "        patterns = add_gaps(pattern, set(), 0, max_gaps)\n",
    "        for p in patterns:\n",
    "#             print(p)\n",
    "            counts.setdefault(p, 0)\n",
    "            counts[p] += 1\n",
    "       \n",
    "   \n",
    "counts = sorted([(pattern, c) for pattern, c in counts.items()], key=lambda x:x[1], reverse=True)\n",
    "print(\"Count\", len(counts))\n",
    "print(\"Top pattern\", counts[:10])\n"
   ]
  },
  {
   "cell_type": "code",
   "execution_count": null,
   "metadata": {},
   "outputs": [],
   "source": []
  },
  {
   "cell_type": "code",
   "execution_count": null,
   "metadata": {
    "pycharm": {
     "name": "#%%\n"
    }
   },
   "outputs": [],
   "source": [
    "\"\"\"\n",
    "Find the new pattern against IntAct TRAF6 interactors\n",
    "\n",
    "# IntAct interactors of Q9Y4K3 (TRAF6) in MI-TAB format, \"intact_TRAF6.tab\". Downloaded manually from the website.\n",
    "\n",
    "# IntAct interactors identifiers of Q9Y4K3 (TRAF6)\n",
    "awk -F\\\\t '{print $1; print $2}' intact_TRAF6.tab | grep uniprotkb | cut -d \":\" -f2 | sort -u > intact_TRAF6_list.txt\n",
    "\n",
    "# Download the sequences from UniProt using the \"Retrieve/ID mapping\" tab. Saved as \"intact_TRAF6.fasta\"\n",
    "\"\"\"\n",
    "matches = []\n",
    "seq_records = list(SeqIO.parse(\"data/intact_TRAF6.fasta\", \"fasta\"))\n",
    "for record in seq_records:\n",
    "    res = re.findall(\"..P.EDEY\", str(record.seq))  # The new pattern, created using Blast\n",
    "    if res:\n",
    "        matches.append((record.name, res))\n",
    "print(\"The new pattern against IntAct TRAF6 interactors: \", len(matches))\n"
   ]
  },
  {
   "cell_type": "code",
   "execution_count": null,
   "metadata": {
    "pycharm": {
     "name": "#%%\n"
    }
   },
   "outputs": [],
   "source": [
    "\"\"\"\n",
    "Find the new pattern against STRING TRAF6 interactors\n",
    "\n",
    "Search Q9Y4K3 in STRING. Filter high interaction score 0.900. Remove 2nd shell interactors. Increase first shell limit\n",
    "to a high number, e.g. 5,000. Exports, download interactors sequences (fasta).\n",
    "\"\"\"\n",
    "matches = []\n",
    "seq_records = list(SeqIO.parse(\"data/string_protein_sequences_TRAF6.fa\", \"fasta\"))\n",
    "for record in seq_records:\n",
    "    res = re.findall(\"..P.EDEY\", str(record.seq))  # The new pattern, created using Blast\n",
    "    if res:\n",
    "        matches.append((record.name, res))\n",
    "print(\"The new pattern against STRING TRAF6 interactors: \", len(matches))\n",
    "print()\n"
   ]
  },
  {
   "cell_type": "code",
   "execution_count": null,
   "metadata": {
    "pycharm": {
     "name": "#%%\n"
    }
   },
   "outputs": [],
   "source": [
    "# ELM ###############\n",
    "\n",
    "\"\"\"\n",
    "# ELM instances of LIG_TRAF6\n",
    "http://elm.eu.org/instances.tsv?q=LIG_TRAF6\n",
    "\n",
    "Find the ELM pattern against the Human genome in SwissProt\n",
    "\"\"\"\n",
    "matches = []\n",
    "seq_records = list(SeqIO.parse(\"data/human_proteins_sp.fasta\", \"fasta\"))\n",
    "for record in seq_records:\n",
    "    res = re.findall(\"..P.E..[FYWHDE].\", str(record.seq))  # The ELM pattern\n",
    "    if res:\n",
    "        matches.append((record.name, res))\n",
    "print(\"ELM pattern against Human proteins\", len(matches))"
   ]
  },
  {
   "cell_type": "code",
   "execution_count": null,
   "metadata": {
    "pycharm": {
     "name": "#%%\n"
    }
   },
   "outputs": [],
   "source": [
    "\"\"\"\n",
    "Find the new pattern against IntAct TRAF6 interactors\n",
    "\"\"\"\n",
    "matches = []\n",
    "seq_records = list(SeqIO.parse(\"data/intact_TRAF6.fasta\", \"fasta\"))\n",
    "for record in seq_records:\n",
    "    res = re.findall(\"..P.E..[FYWHDE].\", str(record.seq))  # The new pattern, created using Blast\n",
    "    if res:\n",
    "        matches.append((record.name, res))\n",
    "print(\"ELM pattern against IntAct TRAF6 interactors: \", len(matches))"
   ]
  },
  {
   "cell_type": "code",
   "execution_count": null,
   "metadata": {
    "pycharm": {
     "name": "#%%\n"
    }
   },
   "outputs": [],
   "source": [
    "\"\"\"\n",
    "Find the ELM pattern against STRING TRAF6 interactors\n",
    "\"\"\"\n",
    "matches = []\n",
    "seq_records = list(SeqIO.parse(\"data/string_protein_sequences_TRAF6.fa\", \"fasta\"))\n",
    "for record in seq_records:\n",
    "    res = re.findall(\"..P.E..[FYWHDE]\", str(record.seq))  # The new pattern, created using Blast\n",
    "    if res:\n",
    "        matches.append((record.name, res))\n",
    "print(\"ELM pattern against STRING TRAF6 interactors: \", len(matches))"
   ]
  },
  {
   "cell_type": "code",
   "execution_count": null,
   "metadata": {
    "pycharm": {
     "name": "#%%\n"
    }
   },
   "outputs": [],
   "source": [
    "# Parse MobiDB-lite output\n",
    "disorder = {}\n",
    "with open(\"data/intact_TRAF6.mobidblite\") as f:\n",
    "    for line in f:\n",
    "        line = line.strip().split()\n",
    "        if len(line) == 3:  # Exclude sub-regions (polar, ...)\n",
    "            acc, start, end = line\n",
    "            disorder.setdefault(acc, []).append((int(start), int(end)))"
   ]
  },
  {
   "cell_type": "code",
   "execution_count": null,
   "metadata": {
    "pycharm": {
     "name": "#%%\n"
    }
   },
   "outputs": [],
   "source": [
    "# Parse Pfam annotations\n",
    "order = {}\n",
    "with open(\"data/intact_TRAF6.pfam\") as f:\n",
    "    for line in f:\n",
    "        name, start, end = line.strip().split()\n",
    "        order.setdefault(name, []).append((int(start), int(end)))"
   ]
  },
  {
   "cell_type": "code",
   "execution_count": null,
   "metadata": {
    "pycharm": {
     "name": "#%%\n"
    }
   },
   "outputs": [],
   "source": [
    "\"\"\"\n",
    "Find the ELM pattern against IntAct TRAF6 interactors limiting the search inside disordered and unstructured regions\n",
    "\"\"\"\n",
    "matches = []\n",
    "seq_records = list(SeqIO.parse(\"data/intact_TRAF6.fasta\", \"fasta\"))\n",
    "for record in seq_records:\n",
    "\n",
    "    # Exclude non-disordered regions (consider only those predicted by MobiDB-lite)\n",
    "    if record.name in disorder:\n",
    "        for start, end in disorder[record.name]:  # Exclude non disordered regions\n",
    "\n",
    "            # Test if it overlaps with a structured (Pfam) region\n",
    "            is_structured = False\n",
    "            for start1, end1 in order.get(record.name, []):\n",
    "\n",
    "                if min(end - start1, end1 - start) > 0:\n",
    "                    is_structures = True\n",
    "                    # print(record.name, \"conflict\", start, end, start1, end1)\n",
    "\n",
    "            # Exclude structured regions\n",
    "            if not is_structured:\n",
    "                res = re.findall(\"..P.E..[FYWHDE].\", str(record.seq)[start-1:end])  # The ELM pattern\n",
    "                if res:\n",
    "                    matches.append((record.name, res))\n",
    "\n",
    "print(\"ELM pattern against IntAct TRAF6 interactors inside disordered and not structured regions: \", len(matches))\n",
    "\n",
    "\n"
   ]
  }
 ],
 "metadata": {
  "kernelspec": {
   "display_name": "Python 3",
   "language": "python",
   "name": "python3"
  },
  "language_info": {
   "codemirror_mode": {
    "name": "ipython",
    "version": 3
   },
   "file_extension": ".py",
   "mimetype": "text/x-python",
   "name": "python",
   "nbconvert_exporter": "python",
   "pygments_lexer": "ipython3",
   "version": "3.9.7"
  }
 },
 "nbformat": 4,
 "nbformat_minor": 1
}